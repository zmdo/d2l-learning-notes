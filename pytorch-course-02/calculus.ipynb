{
 "cells": [
  {
   "metadata": {},
   "cell_type": "markdown",
   "source": [
    "## 非标量变量的反向传播\n",
    "这里解释一下何谓非标量变量的反向传播。以 D2L 官方给出的教程为例："
   ],
   "id": "22ac97c975deb796"
  },
  {
   "metadata": {
    "ExecuteTime": {
     "end_time": "2024-06-16T07:10:05.587038Z",
     "start_time": "2024-06-16T07:10:05.578991Z"
    }
   },
   "cell_type": "code",
   "source": [
    "import torch\n",
    "\n",
    "# 组建一个向量\n",
    "x = torch.arange(4.0)\n",
    "x.requires_grad_(True)\n",
    "\n",
    "# 定义一个新的 y 函数，注意此时的的 y 不再是一个简单的标量了\n",
    "# 现在的 y 是一个向量\n",
    "y = x * x\n",
    "print(y)\n"
   ],
   "id": "ecb3df07ddb098bb",
   "outputs": [
    {
     "name": "stdout",
     "output_type": "stream",
     "text": [
      "tensor([0., 1., 4., 9.], grad_fn=<MulBackward0>)\n",
      "tensor([0., 2., 4., 6.])\n"
     ]
    }
   ],
   "execution_count": 9
  },
  {
   "metadata": {},
   "cell_type": "markdown",
   "source": [
    "下面官方代码中使用到了一个加和的算法 `y.sum()` ，然后在对其进行反向传播求梯度。这里的意义是什么呢？\n",
    "$$\n",
    "y_i = x_i * x_i\n",
    "\\\\\n",
    "\\Rightarrow\n",
    "y_i' = 2 * x_i\n",
    "\\\\\n",
    "\\Rightarrow\n",
    "y'(x) = 2 *\n",
    "\\begin{bmatrix}\n",
    "\\begin{array}{c}\n",
    "x_0 \\\\\n",
    "x_1 \\\\\n",
    "... \\\\\n",
    "x_n \\\\\n",
    "\\end{array}\n",
    "\\end{bmatrix}\n",
    "$$\n",
    "\n",
    "这里使用 `sum()` 想办法将其组合成了一个复合函数，其作用就是让这个复合函数的结果为一个标量，然后对这个复合函数求偏导。\n",
    "$$\n",
    "g[y(x)] = \\sum_{i=1}^n y_i\n",
    "$$"
   ],
   "id": "50cf5d6d9ca973cc"
  },
  {
   "metadata": {},
   "cell_type": "code",
   "outputs": [],
   "execution_count": null,
   "source": [
    "# 等价于 y.backward(torch.ones(len(x)))\n",
    "# 这里的 y.sum() 相当于将向量上的各个分量加和\n",
    "y.sum().backward()\n",
    "print(x.grad)"
   ],
   "id": "831525b0333fa21"
  }
 ],
 "metadata": {
  "kernelspec": {
   "display_name": "Python 3",
   "language": "python",
   "name": "python3"
  },
  "language_info": {
   "codemirror_mode": {
    "name": "ipython",
    "version": 2
   },
   "file_extension": ".py",
   "mimetype": "text/x-python",
   "name": "python",
   "nbconvert_exporter": "python",
   "pygments_lexer": "ipython2",
   "version": "2.7.6"
  }
 },
 "nbformat": 4,
 "nbformat_minor": 5
}
