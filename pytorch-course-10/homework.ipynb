{
 "cells": [
  {
   "cell_type": "code",
   "execution_count": 3,
   "id": "634d873e-cdab-45fd-8920-2aab3bbbc280",
   "metadata": {},
   "outputs": [
    {
     "data": {
      "text/plain": [
       "tensor([[1., 1., 0., 0., 0., 0., 1., 1.],\n",
       "        [1., 1., 0., 0., 0., 0., 1., 1.],\n",
       "        [1., 1., 0., 0., 0., 0., 1., 1.],\n",
       "        [1., 1., 0., 0., 0., 0., 1., 1.],\n",
       "        [1., 1., 0., 0., 0., 0., 1., 1.],\n",
       "        [1., 1., 0., 0., 0., 0., 1., 1.]])"
      ]
     },
     "execution_count": 3,
     "metadata": {},
     "output_type": "execute_result"
    }
   ],
   "source": [
    "import torch\n",
    "from torch import nn\n",
    "\n",
    "def corr2d(X, K):\n",
    "    h,w = K.shape\n",
    "    Y = torch.zeros( (X.shape[0] - (h - 1),X.shape[1] - (w - 1)) )\n",
    "    for i in range(Y.shape[0]):\n",
    "        for j in range(Y.shape[1]):\n",
    "            Y[i, j] = (X[i:i + h,j:j +w] * K).sum()\n",
    "    return Y\n",
    "\n",
    "class MyConv2d(nn.Module):\n",
    "\n",
    "    def __init__(self,kernel,bias):\n",
    "        super().__init__()\n",
    "        self.weights = kernel\n",
    "        self.bias = 0\n",
    "\n",
    "    def forward(self, X):\n",
    "        return corr2d(X, self.weights) + self.bias\n",
    "\n",
    "X = torch.ones((6, 8))\n",
    "X[:, 2:6] = 0\n",
    "X"
   ]
  },
  {
   "cell_type": "code",
   "execution_count": 7,
   "id": "83cd3d0a-e2de-47b4-9e3b-3ebd4903c5df",
   "metadata": {},
   "outputs": [
    {
     "data": {
      "text/plain": [
       "tensor([[2., 0., 0., 0., 0., 2., 2.],\n",
       "        [2., 0., 0., 0., 0., 2., 2.],\n",
       "        [2., 0., 0., 0., 0., 2., 2.],\n",
       "        [2., 0., 0., 0., 0., 2., 2.],\n",
       "        [2., 0., 0., 0., 0., 2., 2.]])"
      ]
     },
     "execution_count": 7,
     "metadata": {},
     "output_type": "execute_result"
    }
   ],
   "source": [
    "conv2d = MyConv2d( kernel=torch.tensor([[0., 1.],[0., 1.]]), bias= 0 )\n",
    "conv2d.forward(X)"
   ]
  },
  {
   "cell_type": "code",
   "execution_count": 8,
   "id": "a9d3ed4b-84b1-44de-86a9-15f59ee998e0",
   "metadata": {},
   "outputs": [
    {
     "data": {
      "text/plain": [
       "tensor([[2., 2., 2., 2., 2.],\n",
       "        [1., 1., 1., 1., 1.],\n",
       "        [0., 0., 0., 0., 0.],\n",
       "        [0., 0., 0., 0., 0.],\n",
       "        [0., 0., 0., 0., 0.],\n",
       "        [1., 1., 1., 1., 1.],\n",
       "        [2., 2., 2., 2., 2.]])"
      ]
     },
     "execution_count": 8,
     "metadata": {},
     "output_type": "execute_result"
    }
   ],
   "source": [
    "conv2d.forward(X.t())"
   ]
  },
  {
   "cell_type": "code",
   "execution_count": 9,
   "id": "d42f896f-14b5-4d32-a1be-c2b2c77e0abc",
   "metadata": {},
   "outputs": [
    {
     "data": {
      "text/plain": [
       "tensor([[2., 1., 0., 0., 0., 1., 2.],\n",
       "        [2., 1., 0., 0., 0., 1., 2.],\n",
       "        [2., 1., 0., 0., 0., 1., 2.],\n",
       "        [2., 1., 0., 0., 0., 1., 2.],\n",
       "        [2., 1., 0., 0., 0., 1., 2.]])"
      ]
     },
     "execution_count": 9,
     "metadata": {},
     "output_type": "execute_result"
    }
   ],
   "source": [
    "conv2d = MyConv2d( kernel=torch.tensor([[0., 1.],[0., 1.]]).t(), bias= 0 )\n",
    "conv2d.forward(X)"
   ]
  },
  {
   "cell_type": "code",
   "execution_count": 11,
   "id": "20369e1b-a84b-4c35-8b99-33d0bd00ec04",
   "metadata": {},
   "outputs": [
    {
     "data": {
      "text/plain": [
       "tensor([[1., 1., 0., 0., 0., 0., 1., 1.],\n",
       "        [1., 1., 0., 0., 0., 0., 1., 1.],\n",
       "        [1., 1., 0., 0., 0., 0., 1., 1.],\n",
       "        [1., 1., 0., 0., 0., 0., 1., 1.],\n",
       "        [1., 1., 0., 0., 0., 0., 1., 1.],\n",
       "        [1., 1., 0., 0., 0., 0., 1., 1.]])"
      ]
     },
     "execution_count": 11,
     "metadata": {},
     "output_type": "execute_result"
    }
   ],
   "source": [
    "X"
   ]
  },
  {
   "cell_type": "code",
   "execution_count": null,
   "id": "25c08641-61c6-48d2-b9e4-da9373ee247f",
   "metadata": {},
   "outputs": [],
   "source": []
  }
 ],
 "metadata": {
  "kernelspec": {
   "display_name": "Python 3 (ipykernel)",
   "language": "python",
   "name": "python3"
  },
  "language_info": {
   "codemirror_mode": {
    "name": "ipython",
    "version": 3
   },
   "file_extension": ".py",
   "mimetype": "text/x-python",
   "name": "python",
   "nbconvert_exporter": "python",
   "pygments_lexer": "ipython3",
   "version": "3.12.3"
  }
 },
 "nbformat": 4,
 "nbformat_minor": 5
}
