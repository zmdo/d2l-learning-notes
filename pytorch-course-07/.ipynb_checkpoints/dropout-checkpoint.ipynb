{
 "cells": [
  {
   "cell_type": "code",
   "execution_count": 5,
   "id": "7c67ad1b-c963-4a3f-aafd-c7ef48b11614",
   "metadata": {},
   "outputs": [
    {
     "ename": "ImportError",
     "evalue": "cannot import name 'Animator' from 'chart_painter' (C:\\Users\\zhangm\\Documents\\d2l\\pytorch-course-07\\chart_painter.py)",
     "output_type": "error",
     "traceback": [
      "\u001b[1;31m---------------------------------------------------------------------------\u001b[0m",
      "\u001b[1;31mImportError\u001b[0m                               Traceback (most recent call last)",
      "Cell \u001b[1;32mIn[5], line 6\u001b[0m\n\u001b[0;32m      4\u001b[0m \u001b[38;5;28;01mfrom\u001b[39;00m \u001b[38;5;21;01mtorch\u001b[39;00m\u001b[38;5;21;01m.\u001b[39;00m\u001b[38;5;21;01mutils\u001b[39;00m \u001b[38;5;28;01mimport\u001b[39;00m data\n\u001b[0;32m      5\u001b[0m \u001b[38;5;28;01mfrom\u001b[39;00m \u001b[38;5;21;01mtorchvision\u001b[39;00m \u001b[38;5;28;01mimport\u001b[39;00m transforms\n\u001b[1;32m----> 6\u001b[0m \u001b[38;5;28;01mimport\u001b[39;00m \u001b[38;5;21;01mmodel_train\u001b[39;00m\n",
      "File \u001b[1;32m~\\Documents\\d2l\\pytorch-course-07\\model_train.py:3\u001b[0m\n\u001b[0;32m      1\u001b[0m \u001b[38;5;28;01mimport\u001b[39;00m \u001b[38;5;21;01mtorch\u001b[39;00m\n\u001b[0;32m      2\u001b[0m \u001b[38;5;28;01mfrom\u001b[39;00m \u001b[38;5;21;01mIPython\u001b[39;00m \u001b[38;5;28;01mimport\u001b[39;00m display\n\u001b[1;32m----> 3\u001b[0m \u001b[38;5;28;01mfrom\u001b[39;00m \u001b[38;5;21;01mchart_painter\u001b[39;00m \u001b[38;5;28;01mimport\u001b[39;00m Animator\n\u001b[0;32m      5\u001b[0m \u001b[38;5;28;01mdef\u001b[39;00m \u001b[38;5;21mevaluate_accuracy\u001b[39m(net, data_iter):  \u001b[38;5;66;03m#@save\u001b[39;00m\n\u001b[0;32m      6\u001b[0m \u001b[38;5;250m    \u001b[39m\u001b[38;5;124;03m\"\"\"计算在指定数据集上模型的精度\"\"\"\u001b[39;00m\n",
      "\u001b[1;31mImportError\u001b[0m: cannot import name 'Animator' from 'chart_painter' (C:\\Users\\zhangm\\Documents\\d2l\\pytorch-course-07\\chart_painter.py)"
     ]
    }
   ],
   "source": [
    "import torch\n",
    "from torch import nn\n",
    "import torchvision\n",
    "from torch.utils import data\n",
    "from torchvision import transforms\n",
    "import model_train"
   ]
  },
  {
   "cell_type": "code",
   "execution_count": 2,
   "id": "43d03034-cd86-40fa-87b5-b9b2406cf967",
   "metadata": {},
   "outputs": [],
   "source": [
    "\n",
    "threads = 0\n",
    "batch_size = 256\n",
    "\n",
    "def dataload():\n",
    "    # 通过ToTensor实例将图像数据从PIL类型变换成32位浮点数格式，\n",
    "    # 并除以255使得所有像素的数值均在0～1之间\n",
    "    trans = transforms.ToTensor()\n",
    "    mnist_train = torchvision.datasets.FashionMNIST(\n",
    "        root=\"../data\", train=True, transform=trans, download=True)\n",
    "    mnist_test = torchvision.datasets.FashionMNIST(\n",
    "        root=\"../data\", train=False, transform=trans, download=True)\n",
    "    return (data.DataLoader(mnist_train, batch_size, shuffle=True,\n",
    "                            num_workers=threads),\n",
    "            data.DataLoader(mnist_test, batch_size, shuffle=False,\n",
    "                            num_workers=threads))"
   ]
  },
  {
   "cell_type": "code",
   "execution_count": 3,
   "id": "58d806eb-30d5-4661-8b9b-4e90653b47e2",
   "metadata": {},
   "outputs": [
    {
     "name": "stdout",
     "output_type": "stream",
     "text": [
      "损失： 0.3532767574628194 训练正确率： 0.8708333333333333 测试正确率： 0.8588\n"
     ]
    }
   ],
   "source": [
    "dropout1, dropout2 = 0.2,0.5\n",
    "\n",
    "net = nn.Sequential(\n",
    "    nn.Flatten(),\n",
    "    nn.Linear(784,256),\n",
    "    nn.ReLU(),\n",
    "\n",
    "    nn.Dropout(dropout1),\n",
    "    nn.Linear(256,256),\n",
    "    nn.ReLU(),\n",
    "\n",
    "    nn.Dropout(dropout2),\n",
    "    nn.Linear(256, 10)\n",
    ")\n",
    "\n",
    "def init_weight(m):\n",
    "    if type(m) == nn.Linear:\n",
    "        nn.init.normal_(m.weight, std = 0.01)\n",
    "\n",
    "net.apply(init_weight)\n",
    "\n",
    "num_epochs, lr = 10, 0.5\n",
    "\n",
    "train_iter, test_iter = dataload()\n",
    "loss = nn.CrossEntropyLoss(reduction='none')\n",
    "trainer = torch.optim.SGD(net.parameters(), lr = lr)\n",
    "\n",
    "model_train.train_ch3(net, train_iter,test_iter, loss, num_epochs, trainer)"
   ]
  },
  {
   "cell_type": "code",
   "execution_count": null,
   "id": "099adec6-d2aa-4b6b-99c2-339456edcf49",
   "metadata": {},
   "outputs": [],
   "source": []
  }
 ],
 "metadata": {
  "kernelspec": {
   "display_name": "Python 3 (ipykernel)",
   "language": "python",
   "name": "python3"
  },
  "language_info": {
   "codemirror_mode": {
    "name": "ipython",
    "version": 3
   },
   "file_extension": ".py",
   "mimetype": "text/x-python",
   "name": "python",
   "nbconvert_exporter": "python",
   "pygments_lexer": "ipython3",
   "version": "3.12.3"
  }
 },
 "nbformat": 4,
 "nbformat_minor": 5
}
