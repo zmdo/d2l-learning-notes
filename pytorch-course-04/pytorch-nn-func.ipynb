{
 "cells": [
  {
   "metadata": {},
   "cell_type": "markdown",
   "source": [
    "## torch.nn.Linear(in_features, out_features, bias=True)\n",
    "\n",
    "对输入数据做线性变换: $y = Ax + b$\n",
    "\n",
    "### 参数\n",
    "\n",
    "- in_features: 每个输入样本的大小\n",
    "- out_features: 每个输出样本的大小\n",
    "- bias: 若设置为 `False` , 这层不会学习偏置. 默认值: `True`\n",
    "\n",
    "### 形状\n",
    "\n",
    "- 输入: $(N,in\\_features)$\n",
    "- 输出: $(N,out\\_features)$\n",
    "\n",
    "### 变量\n",
    "\n",
    "- weight: 形状为 $(out\\_features \\times in\\_features)$ 的模块中可学习的权值\n",
    "- bias: 形状为 $(out\\_features)$ 的模块中可学习的偏置"
   ],
   "id": "30aa5a20f641364"
  },
  {
   "metadata": {
    "ExecuteTime": {
     "end_time": "2024-07-18T03:30:15.993469Z",
     "start_time": "2024-07-18T03:30:15.982209Z"
    }
   },
   "cell_type": "code",
   "source": [
    "import torch\n",
    "from torch import nn\n",
    "\n",
    "# 定义一个线性变换函数\n",
    "# 这里定义的是 : y = a1*x1 + a2*x2 + b \n",
    "# 写成矩阵的形式是 : y = AX + b\n",
    "linear_func = nn.Linear(2, 1)\n",
    "\n",
    "# 创建数据\n",
    "test_data = torch.tensor(data = [1.,2.], requires_grad = True)\n",
    "print('weight:',linear_func.weight)\n",
    "print('bias:',linear_func.bias)\n",
    "print('result:',linear_func(test_data))\n",
    "\n",
    "# 用于验证计算结果的线性函数\n",
    "def cul_linear_func(weight, bias, data):\n",
    "    return torch.matmul(weight,data) + bias\n",
    "\n",
    "# 验证计算结果\n",
    "print(\"AX + b :\",cul_linear_func(linear_func.weight, linear_func.bias, test_data))"
   ],
   "id": "initial_id",
   "outputs": [
    {
     "name": "stdout",
     "output_type": "stream",
     "text": [
      "weight: Parameter containing:\n",
      "tensor([[ 0.4176, -0.6099]], requires_grad=True)\n",
      "bias: Parameter containing:\n",
      "tensor([0.2748], requires_grad=True)\n",
      "result: tensor([-0.5274], grad_fn=<ViewBackward0>)\n",
      "AX + b : tensor([-0.5274], grad_fn=<AddBackward0>)\n"
     ]
    }
   ],
   "execution_count": 26
  },
  {
   "metadata": {},
   "cell_type": "markdown",
   "source": [
    "## torch.nn.Sequential(* args) \n",
    "\n",
    "一个时序容器。`Modules` 会以他们传入的顺序被添加到容器中。当然，也可以传入一个 `OrderedDict`。\n",
    "\n",
    "为了更容易的理解如何使用Sequential, 下面给出了一个例子:\n",
    "```python\n",
    "# Example of using Sequential\n",
    "model = nn.Sequential(\n",
    "          nn.Conv2d(1,20,5),\n",
    "          nn.ReLU(),\n",
    "          nn.Conv2d(20,64,5),\n",
    "          nn.ReLU()\n",
    "        )\n",
    "\n",
    "# Example of using Sequential with OrderedDict\n",
    "model = nn.Sequential(OrderedDict([\n",
    "          ('conv1', nn.Conv2d(1,20,5)),\n",
    "          ('relu1', nn.ReLU()),\n",
    "          ('conv2', nn.Conv2d(20,64,5)),\n",
    "          ('relu2', nn.ReLU())\n",
    "        ]))\n",
    "```"
   ],
   "id": "b8396d6c967e5edb"
  },
  {
   "metadata": {},
   "cell_type": "code",
   "outputs": [],
   "execution_count": null,
   "source": [
    "# 定义一个序列神经网络\n",
    "net = nn.Sequential(nn.Linear(2, 1))\n",
    "print('net:',net)"
   ],
   "id": "68e61159ee202391"
  },
  {
   "metadata": {},
   "cell_type": "markdown",
   "source": [
    "## torch.utils.data.Dataset\n",
    "\n",
    "表示Dataset的抽象类。\n",
    "\n",
    "## torch.utils.data.TensorDataset(data_tensor, target_tensor)\n",
    "\n",
    "包装数据和目标张量的数据集。\n",
    "\n",
    "### 参数\n",
    "\n",
    "- data_tensor (Tensor): 包含样本数据\n",
    "- target_tensor (Tensor): 包含样本目标(标签)"
   ],
   "id": "f54d7a37072fe704"
  },
  {
   "metadata": {
    "ExecuteTime": {
     "end_time": "2024-07-18T06:01:29.508918Z",
     "start_time": "2024-07-18T06:01:29.493588Z"
    }
   },
   "cell_type": "code",
   "source": [
    "import random\n",
    "from torch.utils import data\n",
    "\n",
    "data_size = 15\n",
    "data_arrays = [torch.randn([data_size,2]),torch.rand([data_size,1])]\n",
    "print(data_arrays)\n",
    "# 包装数据和目标张量的数据集。\n",
    "dataset = data.TensorDataset(*data_arrays)\n",
    "print('dataset:',dataset)"
   ],
   "id": "3b222b1091612240",
   "outputs": [
    {
     "name": "stdout",
     "output_type": "stream",
     "text": [
      "[tensor([[-0.8382, -0.1563],\n",
      "        [ 1.2722, -0.6555],\n",
      "        [ 1.7141,  1.3628],\n",
      "        [ 0.5672, -0.0469],\n",
      "        [ 0.6672,  0.1248],\n",
      "        [-1.8532,  1.1633],\n",
      "        [ 0.2173, -2.0434],\n",
      "        [ 0.9799,  0.7882],\n",
      "        [-0.7779,  0.6886],\n",
      "        [-0.6617,  0.4478],\n",
      "        [ 0.3305,  1.1990],\n",
      "        [ 0.6805,  0.0282],\n",
      "        [ 0.5383,  1.0910],\n",
      "        [ 0.2652,  1.4928],\n",
      "        [ 0.6297,  0.2372]]), tensor([[0.1005],\n",
      "        [0.4190],\n",
      "        [0.0409],\n",
      "        [0.6879],\n",
      "        [0.5952],\n",
      "        [0.1580],\n",
      "        [0.3335],\n",
      "        [0.6755],\n",
      "        [0.8154],\n",
      "        [0.2125],\n",
      "        [0.1730],\n",
      "        [0.3605],\n",
      "        [0.1416],\n",
      "        [0.3048],\n",
      "        [0.6986]])]\n",
      "dataset: <torch.utils.data.dataset.TensorDataset object at 0x0000023559712600>\n"
     ]
    }
   ],
   "execution_count": 55
  },
  {
   "metadata": {},
   "cell_type": "markdown",
   "source": [
    "## torch.utils.data.DataLoader(dataset, batch_size=1, shuffle=False, sampler=None, num_workers=0, collate_fn=<function default_collate>, pin_memory=False, drop_last=False)\n",
    "\n",
    "数据加载器。组合数据集和采样器，并在数据集上提供单进程或多进程迭代器。\n",
    "\n",
    "### 参数\n",
    "- dataset (Dataset): 加载数据的数据集。\n",
    "- batch_size (int, optional): 每个batch加载多少个样本(默认: `1`)。\n",
    "- shuffle (bool, optional): 设置为 `True` 时会在每个epoch重新打乱数据(默认: `False`).\n",
    "- sampler (Sampler, optional): 定义从数据集中提取样本的策略。如果指定，则忽略shuffle参数。\n",
    "- num_workers (int, optional): 用多少个子进程加载数据。`0` 表示数据将在主进程中加载(默认: `0`)\n",
    "- collate_fn (callable, optional):\n",
    "- pin_memory (bool, optional):\n",
    "- drop_last (bool, optional): 如果数据集大小不能被 `batch_size` 整除，则设置为 `True` 后可删除最后一个不完整的batch。如果设为 `False` 并且数据集的大小不能被 `batch_size` 整除，则最后一个batch将更小。(默认: `False`)"
   ],
   "id": "62f7b59d37bd240"
  },
  {
   "metadata": {
    "ExecuteTime": {
     "end_time": "2024-07-18T06:01:38.049616Z",
     "start_time": "2024-07-18T06:01:38.035774Z"
    }
   },
   "cell_type": "code",
   "source": [
    "data_iter = data.DataLoader(dataset, batch_size = 5, shuffle=True)\n",
    "print(next(iter(data_iter)))"
   ],
   "id": "b62ca388c985cbc3",
   "outputs": [
    {
     "name": "stdout",
     "output_type": "stream",
     "text": [
      "[tensor([[0.2652, 1.4928],\n",
      "        [1.7141, 1.3628],\n",
      "        [0.6672, 0.1248],\n",
      "        [0.9799, 0.7882],\n",
      "        [0.5383, 1.0910]]), tensor([[0.3048],\n",
      "        [0.0409],\n",
      "        [0.5952],\n",
      "        [0.6755],\n",
      "        [0.1416]])]\n"
     ]
    }
   ],
   "execution_count": 56
  }
 ],
 "metadata": {
  "kernelspec": {
   "display_name": "Python 3",
   "language": "python",
   "name": "python3"
  },
  "language_info": {
   "codemirror_mode": {
    "name": "ipython",
    "version": 2
   },
   "file_extension": ".py",
   "mimetype": "text/x-python",
   "name": "python",
   "nbconvert_exporter": "python",
   "pygments_lexer": "ipython2",
   "version": "2.7.6"
  }
 },
 "nbformat": 4,
 "nbformat_minor": 5
}
