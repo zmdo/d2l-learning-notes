{
 "cells": [
  {
   "metadata": {},
   "cell_type": "markdown",
   "source": "# 线性代数",
   "id": "a093796693e10512"
  },
  {
   "metadata": {
    "ExecuteTime": {
     "end_time": "2024-07-18T03:47:04.421280Z",
     "start_time": "2024-07-18T03:47:04.373896Z"
    }
   },
   "cell_type": "code",
   "source": [
    "import torch\n",
    "from torch import nn\n",
    "from torch.utils import data"
   ],
   "id": "initial_id",
   "outputs": [],
   "execution_count": 6
  },
  {
   "metadata": {},
   "cell_type": "markdown",
   "source": "## 生成数据",
   "id": "96bfc5527b4030f1"
  },
  {
   "metadata": {
    "ExecuteTime": {
     "end_time": "2024-07-18T03:47:07.837283Z",
     "start_time": "2024-07-18T03:47:07.826857Z"
    }
   },
   "cell_type": "code",
   "source": [
    "def synthetic_data(w,b,num_examples):\n",
    "    X = torch.normal(0,1,(num_examples,len(w)))\n",
    "    y = torch.matmul(X,w) + b\n",
    "    y += torch.normal(0,0.01,y.shape)\n",
    "    return X,y.reshape((-1,1))\n",
    "\n",
    "true_w = torch.tensor([-2,-3.4])\n",
    "true_b = 4.2\n",
    "features, labels = synthetic_data(true_w, true_b, 1000)\n",
    "print('features' ,features[0],'\\nlabels' ,labels[0])\n",
    "\n",
    "def load_array(data_arrays, batch_size, is_train=True):  #@save\n",
    "    \"\"\"构造一个PyTorch数据迭代器\"\"\"\n",
    "    dataset = data.TensorDataset(*data_arrays)\n",
    "    return data.DataLoader(dataset, batch_size, shuffle=is_train)\n",
    "\n",
    "batch_size = 10\n",
    "data_iter = load_array((features, labels), batch_size)"
   ],
   "id": "50bd4419deeaaaac",
   "outputs": [
    {
     "name": "stdout",
     "output_type": "stream",
     "text": [
      "features tensor([ 0.0426, -1.0705]) \n",
      "labels tensor([7.7576])\n"
     ]
    }
   ],
   "execution_count": 7
  },
  {
   "metadata": {},
   "cell_type": "markdown",
   "source": "## 创建神经网络",
   "id": "28b53d72a27bcc91"
  },
  {
   "metadata": {
    "ExecuteTime": {
     "end_time": "2024-07-18T03:48:26.013232Z",
     "start_time": "2024-07-18T03:48:25.865040Z"
    }
   },
   "cell_type": "code",
   "source": [
    "# 定义一个序列神经网络\n",
    "net = nn.Sequential(nn.Linear(2, 1))\n",
    "print('net:',net)\n",
    "\n",
    "# 初始化第一层线性函数的数据\n",
    "net[0].weight.data.normal_(0, 0.01)\n",
    "net[0].bias.data.fill_(0)\n",
    "\n",
    "# 创建一个标准差损失函数\n",
    "loss = nn.MSELoss()\n",
    "\n",
    "# 定义优化算法\n",
    "trainer = torch.optim.SGD(net.parameters(), lr=0.03)\n",
    "\n",
    "# 训练\n",
    "num_epochs = 3\n",
    "for epoch in range(num_epochs):\n",
    "    for X, y in data_iter:\n",
    "        l = loss(net(X) ,y)\n",
    "        trainer.zero_grad()\n",
    "        l.backward()\n",
    "        trainer.step()\n",
    "    l = loss(net(features), labels)\n",
    "    print(f'epoch {epoch + 1}, loss {l:f}')\n",
    "\n",
    "# 检查结果\n",
    "w = net[0].weight.data\n",
    "print('w:',w.reshape(true_w.shape))\n",
    "print('w的估计误差：', true_w - w.reshape(true_w.shape))\n",
    "b = net[0].bias.data\n",
    "print('b:',b)\n",
    "print('b的估计误差：', true_b - b)"
   ],
   "id": "c2dd06b0dbf6c3d9",
   "outputs": [
    {
     "name": "stdout",
     "output_type": "stream",
     "text": [
      "net: Sequential(\n",
      "  (0): Linear(in_features=2, out_features=1, bias=True)\n",
      ")\n",
      "epoch 1, loss 0.000400\n",
      "epoch 2, loss 0.000099\n",
      "epoch 3, loss 0.000101\n",
      "w: tensor([-1.9983, -3.4001])\n",
      "w的估计误差： tensor([-0.0017,  0.0001])\n",
      "b: tensor([4.2005])\n",
      "b的估计误差： tensor([-0.0005])\n"
     ]
    }
   ],
   "execution_count": 9
  }
 ],
 "metadata": {
  "kernelspec": {
   "display_name": "Python 3",
   "language": "python",
   "name": "python3"
  },
  "language_info": {
   "codemirror_mode": {
    "name": "ipython",
    "version": 2
   },
   "file_extension": ".py",
   "mimetype": "text/x-python",
   "name": "python",
   "nbconvert_exporter": "python",
   "pygments_lexer": "ipython2",
   "version": "2.7.6"
  }
 },
 "nbformat": 4,
 "nbformat_minor": 5
}
