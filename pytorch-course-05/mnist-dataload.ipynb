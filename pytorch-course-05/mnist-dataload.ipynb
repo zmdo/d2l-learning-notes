{
 "cells": [
  {
   "metadata": {},
   "cell_type": "markdown",
   "source": "# mnist 数据加载",
   "id": "5dcc36e4118b12b8"
  },
  {
   "metadata": {
    "ExecuteTime": {
     "end_time": "2024-07-19T03:39:52.653277Z",
     "start_time": "2024-07-19T03:39:52.615379Z"
    }
   },
   "cell_type": "code",
   "source": [
    "import torch\n",
    "import torchvision\n",
    "from torch.utils import data\n",
    "from torchvision import transforms\n",
    "\n",
    "# 通过ToTensor实例将图像数据从PIL类型变换成32位浮点数格式，\n",
    "# 并除以255使得所有像素的数值均在0～1之间\n",
    "trans = transforms.ToTensor()\n",
    "mnist_train = torchvision.datasets.FashionMNIST(\n",
    "    root=\"./data\", train=True, transform=trans, download=True)\n",
    "mnist_test = torchvision.datasets.FashionMNIST(\n",
    "    root=\"./data\", train=False, transform=trans, download=True)"
   ],
   "id": "initial_id",
   "outputs": [],
   "execution_count": 2
  },
  {
   "metadata": {
    "ExecuteTime": {
     "end_time": "2024-07-19T03:40:33.858414Z",
     "start_time": "2024-07-19T03:40:33.849299Z"
    }
   },
   "cell_type": "code",
   "source": "len(mnist_train), len(mnist_test)",
   "id": "b2becd124af65eca",
   "outputs": [
    {
     "data": {
      "text/plain": [
       "(60000, 10000)"
      ]
     },
     "execution_count": 3,
     "metadata": {},
     "output_type": "execute_result"
    }
   ],
   "execution_count": 3
  },
  {
   "metadata": {
    "ExecuteTime": {
     "end_time": "2024-07-19T03:46:35.609518Z",
     "start_time": "2024-07-19T03:46:35.605498Z"
    }
   },
   "cell_type": "code",
   "source": [
    "# [index][0] 是对应的图像数组\n",
    "# [index][1] 对应图像的标签\n",
    "len(mnist_train[0][0])\n",
    "mnist_train[0][1]"
   ],
   "id": "7a2a40175683a3b3",
   "outputs": [
    {
     "data": {
      "text/plain": [
       "9"
      ]
     },
     "execution_count": 15,
     "metadata": {},
     "output_type": "execute_result"
    }
   ],
   "execution_count": 15
  },
  {
   "metadata": {
    "ExecuteTime": {
     "end_time": "2024-07-19T03:49:01.554034Z",
     "start_time": "2024-07-19T03:49:01.539119Z"
    }
   },
   "cell_type": "code",
   "source": [
    "def get_fashion_mnist_labels(labels):  #@save\n",
    "    \"\"\"返回Fashion-MNIST数据集的文本标签\"\"\"\n",
    "    text_labels = ['t-shirt', 'trouser', 'pullover', 'dress', 'coat',\n",
    "                   'sandal', 'shirt', 'sneaker', 'bag', 'ankle boot']\n",
    "    return [text_labels[int(i)] for i in labels]\n",
    "\n",
    "# 测试\n",
    "get_fashion_mnist_labels([9])"
   ],
   "id": "51950a439b2f07c4",
   "outputs": [
    {
     "data": {
      "text/plain": [
       "['ankle boot']"
      ]
     },
     "execution_count": 17,
     "metadata": {},
     "output_type": "execute_result"
    }
   ],
   "execution_count": 17
  },
  {
   "metadata": {
    "ExecuteTime": {
     "end_time": "2024-07-19T03:55:04.199696Z",
     "start_time": "2024-07-19T03:54:59.258939Z"
    }
   },
   "cell_type": "code",
   "source": [
    "from torch.utils import data\n",
    "\n",
    "# 一批数据的数量\n",
    "batch_size = 256\n",
    "# 线程\n",
    "threads = 4\n",
    "\n",
    "# 加载数据迭代器\n",
    "train_iter = data.DataLoader(mnist_train,batch_size=batch_size,num_workers=threads,shuffle=True)\n",
    "for X, y in train_iter:\n",
    "    print(X.shape, X.dtype, y.shape, y.dtype)\n",
    "    break\n"
   ],
   "id": "3c6ab6f40248d763",
   "outputs": [
    {
     "name": "stdout",
     "output_type": "stream",
     "text": [
      "torch.Size([256, 1, 28, 28]) torch.float32 torch.Size([256]) torch.int64\n"
     ]
    }
   ],
   "execution_count": 18
  }
 ],
 "metadata": {
  "kernelspec": {
   "display_name": "Python 3",
   "language": "python",
   "name": "python3"
  },
  "language_info": {
   "codemirror_mode": {
    "name": "ipython",
    "version": 2
   },
   "file_extension": ".py",
   "mimetype": "text/x-python",
   "name": "python",
   "nbconvert_exporter": "python",
   "pygments_lexer": "ipython2",
   "version": "2.7.6"
  }
 },
 "nbformat": 4,
 "nbformat_minor": 5
}
