{
 "cells": [
  {
   "metadata": {},
   "cell_type": "markdown",
   "source": [
    "# 数学基础 —— 概率论\n",
    "\n",
    "本次课程学习的是概率论相关的知识。\n"
   ],
   "id": "979f33a3a9a6e7eb"
  },
  {
   "metadata": {
    "ExecuteTime": {
     "end_time": "2024-06-20T15:47:39.010802Z",
     "start_time": "2024-06-20T15:47:36.783762Z"
    }
   },
   "cell_type": "code",
   "source": [
    "import torch\n",
    "# distributions 分布\n",
    "# multinomial 多项式\n",
    "from torch.distributions import multinomial"
   ],
   "id": "initial_id",
   "outputs": [],
   "execution_count": 1
  },
  {
   "metadata": {},
   "cell_type": "markdown",
   "source": [
    "## 掷骰子采样\n",
    "\n",
    "我们先进行一个简单的采样实验 —— 掷骰子，我们知道掷骰子的每面出现的概率为 $\\frac{1}{6}$ ，我们在此使用一个概率向量来模拟这一情形，即我们用一个 6 维的向量，其每一个元素都是对应面出现的概率，然后我们再进行采样。"
   ],
   "id": "1e3b08eac24bb8eb"
  },
  {
   "metadata": {
    "ExecuteTime": {
     "end_time": "2024-06-20T15:47:44.248488Z",
     "start_time": "2024-06-20T15:47:44.228121Z"
    }
   },
   "cell_type": "code",
   "source": [
    "# 这里模拟的是一个投骰子的的概率，即每个面上的概率为 1/6\n",
    "fair_probs = torch.ones(6,dtype=torch.float32)/6\n",
    "# 这里是采样过程，在投骰子的概率分布上采10次样， sample 采样\n",
    "result = multinomial.Multinomial(10,fair_probs).sample()\n",
    "print(result)"
   ],
   "id": "67fb42cec99387c6",
   "outputs": [
    {
     "name": "stdout",
     "output_type": "stream",
     "text": [
      "tensor([3., 1., 1., 2., 2., 1.])\n"
     ]
    }
   ],
   "execution_count": 2
  },
  {
   "metadata": {},
   "cell_type": "markdown",
   "source": "在进行采样后，我们可以求其每一个面出现的频率",
   "id": "506ba0ab2b62c927"
  },
  {
   "metadata": {
    "ExecuteTime": {
     "end_time": "2024-06-20T15:55:41.370300Z",
     "start_time": "2024-06-20T15:55:41.362489Z"
    }
   },
   "cell_type": "code",
   "source": [
    "count = 1000\n",
    "result = multinomial.Multinomial(count,fair_probs).sample()\n",
    "print(result / count)"
   ],
   "id": "9040c8b57c099213",
   "outputs": [
    {
     "name": "stdout",
     "output_type": "stream",
     "text": [
      "tensor([0.1630, 0.1760, 0.1810, 0.1730, 0.1680, 0.1390])\n"
     ]
    }
   ],
   "execution_count": 4
  },
  {
   "metadata": {},
   "cell_type": "markdown",
   "source": "我们通过求其频率发现，每个面出现的概率是接近 $\\frac{1}{6}$ 的，即接近 0.167。下面我们进行 500 组实验，每次实验我们都掷 10 次骰子。",
   "id": "6e1f5ee0f8d6ba64"
  },
  {
   "metadata": {
    "ExecuteTime": {
     "end_time": "2024-06-20T16:00:50.257931Z",
     "start_time": "2024-06-20T16:00:50.231632Z"
    }
   },
   "cell_type": "code",
   "source": [
    "count = 10\n",
    "batch = 500\n",
    "result = multinomial.Multinomial(count,fair_probs).sample((batch,))\n",
    "print(result)"
   ],
   "id": "7442658eedb8b8b6",
   "outputs": [
    {
     "name": "stdout",
     "output_type": "stream",
     "text": [
      "tensor([[2., 3., 2., 3., 0., 0.],\n",
      "        [3., 0., 3., 1., 2., 1.],\n",
      "        [1., 2., 2., 2., 2., 1.],\n",
      "        ...,\n",
      "        [1., 2., 4., 1., 1., 1.],\n",
      "        [2., 2., 3., 1., 0., 2.],\n",
      "        [4., 2., 1., 0., 0., 3.]])\n"
     ]
    }
   ],
   "execution_count": 6
  },
  {
   "metadata": {},
   "cell_type": "markdown",
   "source": "我们现在得到的结果是一个 10 * 500 的矩阵，我们可以绘制一张图以查看随着时间（投掷批次）的增加，其频率是如何收敛于真实概率的。",
   "id": "b3cd17ac98bc4df"
  },
  {
   "metadata": {
    "ExecuteTime": {
     "end_time": "2024-06-20T16:36:15.197857Z",
     "start_time": "2024-06-20T16:36:15.184762Z"
    }
   },
   "cell_type": "code",
   "source": [
    "seq = result.cumsum(dim = 0)\n",
    "count_matrix = torch.arange(count,(batch + 1) *count,count).reshape(1,batch).T.repeat(1,6)\n",
    "print(seq / count_matrix)"
   ],
   "id": "aa3613a54988e23a",
   "outputs": [
    {
     "name": "stdout",
     "output_type": "stream",
     "text": [
      "tensor([[0.2000, 0.3000, 0.2000, 0.3000, 0.0000, 0.0000],\n",
      "        [0.2500, 0.1500, 0.2500, 0.2000, 0.1000, 0.0500],\n",
      "        [0.2000, 0.1667, 0.2333, 0.2000, 0.1333, 0.0667],\n",
      "        ...,\n",
      "        [0.1624, 0.1667, 0.1699, 0.1669, 0.1677, 0.1665],\n",
      "        [0.1625, 0.1667, 0.1701, 0.1667, 0.1673, 0.1665],\n",
      "        [0.1630, 0.1668, 0.1700, 0.1664, 0.1670, 0.1668]])\n"
     ]
    }
   ],
   "execution_count": 37
  }
 ],
 "metadata": {
  "kernelspec": {
   "display_name": "Python 3",
   "language": "python",
   "name": "python3"
  },
  "language_info": {
   "codemirror_mode": {
    "name": "ipython",
    "version": 2
   },
   "file_extension": ".py",
   "mimetype": "text/x-python",
   "name": "python",
   "nbconvert_exporter": "python",
   "pygments_lexer": "ipython2",
   "version": "2.7.6"
  }
 },
 "nbformat": 4,
 "nbformat_minor": 5
}
